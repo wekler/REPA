{
 "metadata": {
  "language_info": {
   "codemirror_mode": {
    "name": "ipython",
    "version": 3
   },
   "file_extension": ".py",
   "mimetype": "text/x-python",
   "name": "python",
   "nbconvert_exporter": "python",
   "pygments_lexer": "ipython3",
   "version": "3.8.6"
  },
  "orig_nbformat": 2,
  "kernelspec": {
   "name": "python3",
   "display_name": "Python 3.8.6 64-bit",
   "metadata": {
    "interpreter": {
     "hash": "9546cc499a32b916f014f484d35dcb2c67354ce853855317e94b928b5499ee87"
    }
   }
  }
 },
 "nbformat": 4,
 "nbformat_minor": 2,
 "cells": [
  {
   "cell_type": "code",
   "execution_count": 1,
   "metadata": {},
   "outputs": [],
   "source": [
    "#Instalando o pandas para trabalhar com a leitura de arquivos csv (abrir o terminal e instalar o pandaspip install pandas)\n",
    "import pandas as pd #Importando a dependêcia para leitura do csv\n",
    "import numpy as np #Trabalhar com algebra linear\n",
    "#import matplotlib\n",
    "import matplotlib.pyplot as plt #Será utilizado para montar os gráficos\n",
    "from sklearn.metrics import mean_squared_error #Para calcular o MSE\n",
    "import sklearn.linear_model as lr # regressão linear"
   ]
  },
  {
   "cell_type": "code",
   "execution_count": 13,
   "metadata": {},
   "outputs": [],
   "source": [
    "database = pd.read_csv (\"country_vaccinations.csv\") #Carregando o dataset"
   ]
  },
  {
   "cell_type": "code",
   "execution_count": 14,
   "metadata": {},
   "outputs": [
    {
     "output_type": "execute_result",
     "data": {
      "text/plain": [
       "Index(['country', 'iso_code', 'date', 'total_vaccinations',\n",
       "       'people_vaccinated', 'people_fully_vaccinated',\n",
       "       'daily_vaccinations_raw', 'daily_vaccinations',\n",
       "       'total_vaccinations_per_hundred', 'people_vaccinated_per_hundred',\n",
       "       'people_fully_vaccinated_per_hundred', 'daily_vaccinations_per_million',\n",
       "       'vaccines', 'source_name'],\n",
       "      dtype='object')"
      ]
     },
     "metadata": {},
     "execution_count": 14
    }
   ],
   "source": [
    "database.keys() #Informações "
   ]
  },
  {
   "cell_type": "code",
   "execution_count": 4,
   "metadata": {},
   "outputs": [],
   "source": [
    "#Como imprimir os dados 1\n",
    "#print(database.source_website)"
   ]
  },
  {
   "cell_type": "code",
   "execution_count": 5,
   "metadata": {},
   "outputs": [],
   "source": [
    "#Como imprimir os dados 2\n",
    "#X = database ['iso_code']\n",
    "#print(X)"
   ]
  },
  {
   "cell_type": "code",
   "execution_count": 16,
   "metadata": {},
   "outputs": [],
   "source": [
    "#database.shape"
   ]
  },
  {
   "cell_type": "code",
   "execution_count": 15,
   "metadata": {},
   "outputs": [],
   "source": [
    "#X, y = database.iso_code, database.people_fully_vaccinated\n",
    "\n",
    "#X.shape, y.shape"
   ]
  },
  {
   "cell_type": "code",
   "execution_count": 8,
   "metadata": {},
   "outputs": [],
   "source": [
    "#Descobrir como está a base de dados\n",
    "#with pd.option_context(\"display.max_columns\", 15): \n",
    "#    display(database)\n",
    "#    display(database.describe(include='all'))"
   ]
  },
  {
   "cell_type": "code",
   "execution_count": 9,
   "metadata": {},
   "outputs": [
    {
     "output_type": "execute_result",
     "data": {
      "text/plain": [
       "country                                 object\n",
       "iso_code                                object\n",
       "date                                    object\n",
       "total_vaccinations                     float64\n",
       "people_vaccinated                      float64\n",
       "people_fully_vaccinated                float64\n",
       "daily_vaccinations_raw                 float64\n",
       "daily_vaccinations                     float64\n",
       "total_vaccinations_per_hundred         float64\n",
       "people_vaccinated_per_hundred          float64\n",
       "people_fully_vaccinated_per_hundred    float64\n",
       "daily_vaccinations_per_million         float64\n",
       "vaccines                                object\n",
       "source_name                             object\n",
       "source_website                          object\n",
       "dtype: object"
      ]
     },
     "metadata": {},
     "execution_count": 9
    }
   ],
   "source": [
    "database.dtypes #Descobrir os tipos das variáveis, quais variáveis são interpretadas como texto (object) e quais não são, ou seja, quais variáveis são numéricas e quais são categóricas"
   ]
  },
  {
   "cell_type": "code",
   "execution_count": 17,
   "metadata": {},
   "outputs": [],
   "source": [
    "#Quantificado quais as categorias, quantas são entre parêntesis e quais são depois dos dois pontos\n",
    "#for n, c in database.items():\n",
    "#    if not pd.api.types.is_numeric_dtype(c) and not pd.api.types.is_datetime64_any_dtype(c):\n",
    "#        print(f'{n} ({len(c.unique())}): {c.unique()}')"
   ]
  },
  {
   "cell_type": "code",
   "execution_count": null,
   "metadata": {},
   "outputs": [],
   "source": [
    "#Fazer o RMSE a partir do MSE utilizando o scikit-learn, mais otimizado que fazer da forma anterior. RECOMENDADO UTILIZAR ESTE!!!\n",
    "#from sklearn.metrics import mean_squared_error\n",
    "#from math import sqrt\n",
    "#def rmse(y, ypred):\n",
    "#    mse = mean_squared_error(y, ypred)\n",
    "#    return sqrt(mse)\n",
    "#ypred = modelo_linear(X12, -1, 40)\n",
    "#rmse(y, ypred)"
   ]
  },
  {
   "cell_type": "code",
   "execution_count": 21,
   "metadata": {},
   "outputs": [],
   "source": [
    "#Separando as colunas que serão utilizadas\n",
    "dados = pd.read_csv (\"country_vaccinations.csv\", usecols = ['country', 'total_vaccinations', 'people_vaccinated', 'people_fully_vaccinated', 'daily_vaccinations_raw', 'daily_vaccinations', 'total_vaccinations_per_hundred', 'people_vaccinated_per_hundred','people_fully_vaccinated_per_hundred', 'daily_vaccinations_per_million'])"
   ]
  },
  {
   "cell_type": "code",
   "execution_count": 22,
   "metadata": {},
   "outputs": [
    {
     "output_type": "execute_result",
     "data": {
      "text/plain": [
       "Index(['country', 'total_vaccinations', 'people_vaccinated',\n",
       "       'people_fully_vaccinated', 'daily_vaccinations_raw',\n",
       "       'daily_vaccinations', 'total_vaccinations_per_hundred',\n",
       "       'people_vaccinated_per_hundred', 'people_fully_vaccinated_per_hundred',\n",
       "       'daily_vaccinations_per_million'],\n",
       "      dtype='object')"
      ]
     },
     "metadata": {},
     "execution_count": 22
    }
   ],
   "source": [
    "dados.keys()"
   ]
  },
  {
   "cell_type": "code",
   "execution_count": null,
   "metadata": {},
   "outputs": [],
   "source": [
    "X = \n",
    "y = \n",
    "\n",
    "modelo = LinearRegression() # cria o modelo\n",
    "modelo.fit(X, y) # treina o modelo\n",
    "ypred = modelo.predict(X)\n",
    "print(mean_squared_error(y, ypred))\n",
    "print(modelo.interceopt_)\n",
    "print(modelo.coef_)"
   ]
  }
 ]
}