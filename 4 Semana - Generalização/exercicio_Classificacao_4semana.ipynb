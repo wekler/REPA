{
 "metadata": {
  "language_info": {
   "codemirror_mode": {
    "name": "ipython",
    "version": 3
   },
   "file_extension": ".py",
   "mimetype": "text/x-python",
   "name": "python",
   "nbconvert_exporter": "python",
   "pygments_lexer": "ipython3",
   "version": 3
  },
  "orig_nbformat": 2
 },
 "nbformat": 4,
 "nbformat_minor": 2,
 "cells": [
  {
   "cell_type": "code",
   "execution_count": null,
   "metadata": {},
   "outputs": [],
   "source": [
    "# Escolha uma base de classificação e compare os classificadores Logistic Regression e KNN do scikit-learn.\n",
    "\n",
    "# Use pelo menos duas formas de avaliação e as repita pelo menos 10 vezes.\n",
    "\n",
    "# Calcule a média das repetições de cada avaliação."
   ]
  }
 ]
}