{
 "metadata": {
  "language_info": {
   "codemirror_mode": {
    "name": "ipython",
    "version": 3
   },
   "file_extension": ".py",
   "mimetype": "text/x-python",
   "name": "python",
   "nbconvert_exporter": "python",
   "pygments_lexer": "ipython3",
   "version": "3.8.6-final"
  },
  "orig_nbformat": 2,
  "kernelspec": {
   "name": "python3",
   "display_name": "Python 3.8.6 64-bit",
   "metadata": {
    "interpreter": {
     "hash": "ae9d4c39572fe296f8ec491a69527f40957ce295339e47f0d3008358d1ecaa03"
    }
   }
  }
 },
 "nbformat": 4,
 "nbformat_minor": 2,
 "cells": [
  {
   "cell_type": "code",
   "execution_count": 1,
   "metadata": {},
   "outputs": [],
   "source": [
    "# Seu fichamento deverá conter um parágrafo para cada item abaixo:\n"
   ]
  },
  {
   "cell_type": "code",
   "execution_count": 2,
   "metadata": {},
   "outputs": [
    {
     "output_type": "error",
     "ename": "SyntaxError",
     "evalue": "invalid syntax (<ipython-input-2-f71c44c03509>, line 2)",
     "traceback": [
      "\u001b[1;36m  File \u001b[1;32m\"<ipython-input-2-f71c44c03509>\"\u001b[1;36m, line \u001b[1;32m2\u001b[0m\n\u001b[1;33m    O artigo propõe uma metodologia experimental para avaliação de abordagens de aprendizado de máquina para diagnóstico de falhas baseado em sinais de vibrações, porém, a novidade seria utilizar um framework de validação ao invés de utilizar apenas a divisão treino-validação-teste usual, bem como mostrar que Cross Validation Aninhado é mais confiável que o Cross Validation Simples.\u001b[0m\n\u001b[1;37m      ^\u001b[0m\n\u001b[1;31mSyntaxError\u001b[0m\u001b[1;31m:\u001b[0m invalid syntax\n"
     ]
    }
   ],
   "source": [
    "# O que o artigo propõe? Qual é a novidade que ele apresenta?\n",
    "O artigo propõe uma metodologia experimental para avaliação de abordagens de aprendizado de máquina para diagnóstico de falhas baseado em sinais de vibrações, utilizando técnicas que produzem resultados com melhor qualidade e mais realistas. Porém, a novidade seria utilizar um framework de validação ao invés de utilizar apenas a divisão treino-validação-teste usual, bem como mostrar que Cross Validation Aninhado é mais confiável que o Cross Validation Simples."
   ]
  },
  {
   "cell_type": "code",
   "execution_count": 3,
   "metadata": {},
   "outputs": [],
   "source": [
    "# Como os experimentos do artigo são modelados para corroborar a hipótese proposta?\n",
    "Utilizaram a base de dados mais, provavelmente, seja a referenciada na literatura científica (Case Western Reserve University Bearing Data), isolando completamente a base de teste (evitando que um mesmo dado fosse usado em ambos: no ajuste do hiperparâmetro e no teste do classificador resultante), evitando a similaridade do bias (ou seja, pedaços do mesmo sinal fossem utilizados no conjunto de dados e teste), fazendo a verificação estatisticamente das diferenças significantes e ainda permitindo a reprodutibilidade.\n",
    "\n",
    "\n",
    "\n",
    "E Ainda foram comparados 4 classificadores sob as tarefas de generalização: K-Nearest-Neighbor, Support Vector Machine, Random Forest and One-Dimensional Convolutional Neural Network.\n",
    "\n",
    "Separando o conjunto de dados em treino e teste: o conjunto de dados foi dividido em dois conjuntos de dados que não estavam visíveis entre si durante a parametrização.\n",
    "De forma que os conjuntos não se sobrepunham, evitando que um mesmo dado fosse usado em ambos: no ajuste do hiperparâmetro e no teste do classificador resultante, evitando assim que os resultados fossem mais otimistras do que realmente são.\n",
    "\n",
    "Fizeram a separação da base de dados em dois conjuntos de dados, de forma que os conjuntos não se sobrepunham, evitando que um mesmo dado fosse usado no conjunto de treino e de teste, evitando assim que os resultados fossem mais otimistras do que realmente são.\n",
    "\n",
    "A melhor forma de apresentar apresentar a pontuação do desempenho é separando completamente o conjunto de dados para teste.\n",
    "\n",
    "\n",
    "\n",
    "\n"
   ]
  },
  {
   "cell_type": "code",
   "execution_count": 4,
   "metadata": {},
   "outputs": [],
   "source": [
    "# Quais os pontos fortes do artigo?\n",
    "Utilizam para teste uma base amplamente referenciado para estudo e testes; utilizam técnicas que corroboram para a qualidade dos resultados; utilizam meios para evitam o otimismo nos resultados, fazendo a análise mais próximo da realidade.\n"
   ]
  },
  {
   "cell_type": "code",
   "execution_count": 5,
   "metadata": {},
   "outputs": [],
   "source": [
    "# Quais os pontos fracos dele?\n",
    "Mesmo os autores realizando os cuidados e tecnicas para evitar o superotimismo, ainda assim afirmaram que podem existir dados que por si só são superotimistas. De acordo com os resultados estatísticos, os experimentos tiveram uma queda na performance e demandavam muito poder de processamento, uma vez tentado evitar a similaridade do bias.\n"
   ]
  },
  {
   "cell_type": "code",
   "execution_count": 6,
   "metadata": {},
   "outputs": [],
   "source": [
    "# O artigo está relacionado de alguma forma com o seu projeto de dissertação? Por quê?\n",
    "Não. Pois a priori estamos tendenciados utilizar um protocolo IoT (MQTT) em conjunto com outras tecnologias de Nuvem (Amazon, Google...), a fim de prover uma solução aplicada em iluminação pública de cidades inteligentes. Mas ainda estamos delimitando o problema e apesar de ser uma possibilidade de se utilizar machine learning, ainda não é algo concreto."
   ]
  }
 ]
}